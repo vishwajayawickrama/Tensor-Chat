{
 "cells": [
  {
   "cell_type": "markdown",
   "id": "db5ea960",
   "metadata": {},
   "source": [
    "# Embeddings MVP Example\n",
    "\n",
    "This notebook demonstrates a simple embedding workflow:\n",
    "1. Convert text to vector embeddings\n",
    "2. Compare similarity between texts\n",
    "3. Find the most similar text from a collection"
   ]
  },
  {
   "cell_type": "code",
   "execution_count": 2,
   "id": "ce086339",
   "metadata": {},
   "outputs": [
    {
     "name": "stdout",
     "output_type": "stream",
     "text": [
      "🔄 Loading embedding model...\n",
      "✅ Embedding model loaded!\n",
      "✅ Embedding model loaded!\n"
     ]
    }
   ],
   "source": [
    "# MVP Embedding Example - Setup\n",
    "import numpy as np\n",
    "from langchain_community.embeddings import HuggingFaceEmbeddings\n",
    "from sklearn.metrics.pairwise import cosine_similarity\n",
    "from dotenv import load_dotenv\n",
    "import warnings\n",
    "warnings.filterwarnings(\"ignore\")   \n",
    "\n",
    "# Load environment variables\n",
    "load_dotenv()\n",
    "\n",
    "# Initialize embeddings model\n",
    "print(\"🔄 Loading embedding model...\")\n",
    "embeddings = HuggingFaceEmbeddings(\n",
    "    model_name=\"sentence-transformers/all-MiniLM-L6-v2\"\n",
    ")\n",
    "print(\"✅ Embedding model loaded!\")"
   ]
  },
  {
   "cell_type": "code",
   "execution_count": 3,
   "id": "00ac65e8",
   "metadata": {},
   "outputs": [
    {
     "name": "stdout",
     "output_type": "stream",
     "text": [
      "📚 Knowledge Base:\n",
      "1. Python is a programming language used for web development and data science.\n",
      "2. Machine learning is a subset of artificial intelligence that learns from data.\n",
      "3. Neural networks are inspired by the human brain and used in deep learning.\n",
      "4. JavaScript is primarily used for web development and frontend applications.\n",
      "5. Data visualization helps people understand complex datasets through charts and graphs.\n",
      "6. Natural language processing enables computers to understand human language.\n",
      "7. Databases store and organize data for applications and websites.\n",
      "\n",
      "📊 Total documents: 7\n"
     ]
    }
   ],
   "source": [
    "# Step 1: Create a knowledge base of texts\n",
    "knowledge_base = [\n",
    "    \"Python is a programming language used for web development and data science.\",\n",
    "    \"Machine learning is a subset of artificial intelligence that learns from data.\",\n",
    "    \"Neural networks are inspired by the human brain and used in deep learning.\",\n",
    "    \"JavaScript is primarily used for web development and frontend applications.\",\n",
    "    \"Data visualization helps people understand complex datasets through charts and graphs.\",\n",
    "    \"Natural language processing enables computers to understand human language.\",\n",
    "    \"Databases store and organize data for applications and websites.\"\n",
    "]\n",
    "\n",
    "print(\"📚 Knowledge Base:\")\n",
    "for i, text in enumerate(knowledge_base, 1):\n",
    "    print(f\"{i}. {text}\")\n",
    "    \n",
    "print(f\"\\n📊 Total documents: {len(knowledge_base)}\")"
   ]
  },
  {
   "cell_type": "code",
   "execution_count": 4,
   "id": "0ca3cc9b",
   "metadata": {},
   "outputs": [
    {
     "name": "stdout",
     "output_type": "stream",
     "text": [
      "🔄 Converting texts to embeddings...\n",
      "✅ Processed document 1/7\n",
      "✅ Processed document 2/7\n",
      "✅ Processed document 3/7\n",
      "✅ Processed document 4/7\n",
      "✅ Processed document 5/7\n",
      "✅ Processed document 6/7\n",
      "✅ Processed document 7/7\n",
      "\n",
      "📐 Embeddings shape: (7, 384)\n",
      "📏 Each embedding has 384 dimensions\n",
      "✅ Processed document 1/7\n",
      "✅ Processed document 2/7\n",
      "✅ Processed document 3/7\n",
      "✅ Processed document 4/7\n",
      "✅ Processed document 5/7\n",
      "✅ Processed document 6/7\n",
      "✅ Processed document 7/7\n",
      "\n",
      "📐 Embeddings shape: (7, 384)\n",
      "📏 Each embedding has 384 dimensions\n"
     ]
    }
   ],
   "source": [
    "# Step 2: Convert all texts to embeddings\n",
    "print(\"🔄 Converting texts to embeddings...\")\n",
    "\n",
    "# Convert each text to embeddings\n",
    "knowledge_embeddings = []\n",
    "for i, text in enumerate(knowledge_base):\n",
    "    embedding = embeddings.embed_query(text)\n",
    "    knowledge_embeddings.append(embedding)\n",
    "    print(f\"✅ Processed document {i+1}/{len(knowledge_base)}\")\n",
    "\n",
    "# Convert to numpy array for easier manipulation\n",
    "knowledge_embeddings = np.array(knowledge_embeddings)\n",
    "print(f\"\\n📐 Embeddings shape: {knowledge_embeddings.shape}\")\n",
    "print(f\"📏 Each embedding has {knowledge_embeddings.shape[1]} dimensions\")"
   ]
  },
  {
   "cell_type": "code",
   "execution_count": 5,
   "id": "1b419c9d",
   "metadata": {},
   "outputs": [
    {
     "name": "stdout",
     "output_type": "stream",
     "text": [
      "🔍 Searching for: 'What is AI and machine learning?'\n",
      "1. (Similarity: 0.809) Machine learning is a subset of artificial intelligence that learns from data.\n",
      "2. (Similarity: 0.490) Neural networks are inspired by the human brain and used in deep learning.\n",
      "--------------------------------------------------------------------------------\n",
      "🔍 Searching for: 'How to build websites?'\n",
      "1. (Similarity: 0.355) Databases store and organize data for applications and websites.\n",
      "2. (Similarity: 0.295) JavaScript is primarily used for web development and frontend applications.\n",
      "--------------------------------------------------------------------------------\n",
      "🔍 Searching for: 'Understanding data better'\n",
      "1. (Similarity: 0.512) Data visualization helps people understand complex datasets through charts and graphs.\n",
      "2. (Similarity: 0.403) Databases store and organize data for applications and websites.\n",
      "--------------------------------------------------------------------------------\n"
     ]
    }
   ],
   "source": [
    "# Step 3: Search function - Find most similar text\n",
    "def find_most_similar(query_text, top_k=3):\n",
    "    \"\"\"Find the most similar texts to a query\"\"\"\n",
    "    print(f\"🔍 Searching for: '{query_text}'\")\n",
    "    \n",
    "    # Convert query to embedding\n",
    "    query_embedding = embeddings.embed_query(query_text)\n",
    "    query_embedding = np.array([query_embedding])  # Reshape for cosine_similarity\n",
    "    \n",
    "    # Calculate similarities\n",
    "    similarities = cosine_similarity(query_embedding, knowledge_embeddings)[0]\n",
    "\n",
    "    \n",
    "    # # Get top-k most similar\n",
    "    top_indices = np.argsort(similarities)[::-1][:top_k]\n",
    "    \n",
    "    # print(f\"\\n📋 Top {top_k} most similar texts:\")\n",
    "    results = []\n",
    "    for i, idx in enumerate(top_indices, 1):\n",
    "        similarity_score = similarities[idx]\n",
    "        similar_text = knowledge_base[idx]\n",
    "        results.append((similarity_score, similar_text))\n",
    "        print(f\"{i}. (Similarity: {similarity_score:.3f}) {similar_text}\")\n",
    "    \n",
    "    return results\n",
    "\n",
    "# Test the search function\n",
    "test_queries = [\n",
    "    \"What is AI and machine learning?\",\n",
    "    \"How to build websites?\",\n",
    "    \"Understanding data better\"\n",
    "]\n",
    "\n",
    "for query in test_queries:\n",
    "    find_most_similar(query, top_k=2)\n",
    "    print(\"-\" * 80)"
   ]
  },
  {
   "cell_type": "code",
   "execution_count": 6,
   "id": "9663f981",
   "metadata": {},
   "outputs": [
    {
     "name": "stdout",
     "output_type": "stream",
     "text": [
      "💡 Uncomment the last line above to try interactive search!\n",
      "💡 Or run: interactive_search()\n"
     ]
    }
   ],
   "source": [
    "# Step 4: Interactive search - Try your own queries!\n",
    "def interactive_search():\n",
    "    \"\"\"Interactive search function\"\"\"\n",
    "    print(\"🎯 Interactive Search Mode\")\n",
    "    print(\"Type your question and see the most relevant results!\")\n",
    "    print(\"Type 'quit' to exit\\n\")\n",
    "    \n",
    "    while True:\n",
    "        user_query = input(\"💭 Your question: \").strip()\n",
    "        \n",
    "        if user_query.lower() in ['quit', 'exit', 'q']:\n",
    "            print(\"👋 Goodbye!\")\n",
    "            break\n",
    "            \n",
    "        if not user_query:\n",
    "            print(\"Please enter a question!\")\n",
    "            continue\n",
    "            \n",
    "        try:\n",
    "            results = find_most_similar(user_query, top_k=3)\n",
    "            print()\n",
    "        except Exception as e:\n",
    "            print(f\"❌ Error: {e}\")\n",
    "            print()\n",
    "\n",
    "# Uncomment the line below to start interactive mode\n",
    "# interactive_search()\n",
    "\n",
    "print(\"💡 Uncomment the last line above to try interactive search!\")\n",
    "print(\"💡 Or run: interactive_search()\")"
   ]
  },
  {
   "cell_type": "code",
   "execution_count": null,
   "id": "65a1247b",
   "metadata": {},
   "outputs": [
    {
     "name": "stdout",
     "output_type": "stream",
     "text": [
      "[Document(metadata={'producer': 'pdfTeX-1.40.27', 'creator': 'LaTeX with hyperref', 'creationdate': '2025-09-24T13:24:37+00:00', 'author': '', 'keywords': '', 'moddate': '2025-09-24T13:24:37+00:00', 'ptex.fullbanner': 'This is pdfTeX, Version 3.141592653-2.6-1.40.27 (TeX Live 2025) kpathsea version 6.4.1', 'subject': '', 'title': '', 'trapped': 'False', 'total_pages': 2, 'source': 'Mehara_Rothila_AI__ML_Engineer.pdf'}, page_content='MEHARA ROTHILA RANAWAKA\\n\\nAI/ML Engineer\\n\\n+94 78 710 2992 | rothilamehara22@gmail.com | mehara.io\\n(cid:239) ramr-ranawaka | § mehara-rothila\\n\\nColombo, Western Province, Sri Lanka\\n\\nOBJECTIVE\\n\\nB.Sc.(Hons.) IT & Management student at University of Moratuwa. Experienced in machine learning, fraud detection,\\nand data analytics with DAX and KQL. Microsoft Certified Fabric Analytics Engineer with a focus on explainable AI\\nand interpretable solutions. Founded and led Team \"Xforce\" - a competitive programming and development team\\nachieving consistent success across multiple inter-university competitions.\\n\\nEXPERIENCE\\n\\n• ExcellyGen\\n\\nSoftware Engineering Trainee\\n◦ Learning industry best practices for software development lifecycle and project management\\n\\nOct 2024 - Sep 2025\\nColombo, Sri Lanka\\n\\nEDUCATION\\n\\n• University of Moratuwa - Faculty of Information Technology\\n\\nB.Sc.(Hons.) in Information Technology and Management\\n\\nJul 2023 - Jul 2027\\nMoratuwa, Sri Lanka\\n\\nPROJECTS'), Document(metadata={'producer': 'pdfTeX-1.40.27', 'creator': 'LaTeX with hyperref', 'creationdate': '2025-09-24T13:24:37+00:00', 'author': '', 'keywords': '', 'moddate': '2025-09-24T13:24:37+00:00', 'ptex.fullbanner': 'This is pdfTeX, Version 3.141592653-2.6-1.40.27 (TeX Live 2025) kpathsea version 6.4.1', 'subject': '', 'title': '', 'trapped': 'False', 'total_pages': 2, 'source': 'Mehara_Rothila_AI__ML_Engineer.pdf'}, page_content='◦ Clinical Innovation: Developed health index combining lifestyle factors, created geographic intelligence features,\\n\\nand advanced statistical aggregations with temporal analysis\\n\\n◦ Methodology: Processed 50,000+ patient records with 30+ engineered features, achieving top-tier F1-score through\\n\\nrigorous 10-fold validation\\n\\n◦ Impact: Built production-ready healthcare ML system supporting clinical decision-making for patient risk\\n\\nstratification with ethical AI considerations, HIPAA-compliant data handling, and interpretable feature importance\\n\\nMay 2025 - Jun 2025\\n[§] [(cid:128)]\\n\\n• Climate Prediction System with Ensemble ML for Agricultural Decision Support\\n\\nPython, XGBoost, LightGBM, Scikit-learn, Pandas, NumPy\\n◦ Achievement: 3rd place in Data Crunch Kaggle competition for climate forecasting, predicting 5 agricultural\\n\\nvariables across multiple regions with 36.8 sMAPE score\\n\\n◦ Technical Innovation: Developed novel trigonometric decomposition for circular wind data, variable-specific')]\n",
      "\n",
      "----------------------------------------------------------------------\n",
      "\n",
      "[Document(metadata={'producer': 'pdfTeX-1.40.27', 'creator': 'LaTeX with hyperref', 'creationdate': '2025-09-24T13:24:37+00:00', 'author': '', 'keywords': '', 'moddate': '2025-09-24T13:24:37+00:00', 'ptex.fullbanner': 'This is pdfTeX, Version 3.141592653-2.6-1.40.27 (TeX Live 2025) kpathsea version 6.4.1', 'subject': '', 'title': '', 'trapped': 'False', 'total_pages': 2, 'source': 'Mehara_Rothila_AI__ML_Engineer.pdf'}, page_content='◦ Technical Architecture: Modular Python pipeline with Optuna hyperparameter tuning and Docker\\n\\ncontainerization\\n\\nSKILLS\\n• Programming: Python, TypeScript, JavaScript, C#, PHP\\n• Frontend: React.js, Next.js, HTML/CSS, TypeScript\\n• Backend: .NET, Node.js, Python, PHP, Express.js\\n• Databases: MongoDB, Microsoft SQL Server, MySQL\\n• AI/ML Libraries: TensorFlow, PyTorch, Scikit-learn, XGBoost, LightGBM, CatBoost, Optuna, SMOTE\\n• Data Science: Pandas, NumPy, Jupyter, DAX, KQL, Feature Engineering, Ensemble Methods\\n• Cloud & Tools: AWS, Firebase, JWT/OAuth2, Docker\\n• Hardware & IoT: Arduino, ESP32, PCB Design, Serial Communication\\n• Architecture: Microservices, Clean Architecture, RESTful APIs, Three-tier Architecture\\n\\nHONORS AND AWARDS\\n\\nView Certificates (cid:128)'), Document(metadata={'producer': 'pdfTeX-1.40.27', 'creator': 'LaTeX with hyperref', 'creationdate': '2025-09-24T13:24:37+00:00', 'author': '', 'keywords': '', 'moddate': '2025-09-24T13:24:37+00:00', 'ptex.fullbanner': 'This is pdfTeX, Version 3.141592653-2.6-1.40.27 (TeX Live 2025) kpathsea version 6.4.1', 'subject': '', 'title': '', 'trapped': 'False', 'total_pages': 2, 'source': 'Mehara_Rothila_AI__ML_Engineer.pdf'}, page_content='LEADERSHIP EXPERIENCE\\n\\n• Founder & Team Leader - Team \"Xforce\"\\nCompetitive Programming and Development Team\\n◦ Founded and led competitive programming team with multiple top-3 finishes across 15+ national competitions\\n\\n2024 - Present\\n\\nCERTIFICATIONS\\n\\n• Microsoft Certified: Fabric Analytics Engineer Associate\\n• SLIIT: AI/ML Engineer - Stage 2\\n\\nOct 2024\\nOct 2024\\n\\nREFERENCES\\n\\nMrs. M. B. Mufitha\\nSenior Lecturer / Student Counselor\\nHead of the Department\\nDepartment of Interdisciplinary Studies\\nFaculty of Information Technology\\nUniversity of Moratuwa\\nEmail: mufithab@uom.lk\\nPhone: +94 76 545 7738\\nRelationship: Academic Supervisor\\n\\nMr. Ashan Withana\\nSoftware Engineer\\nSaberion\\nColombo, Western Province\\nEmail: ashanwithana4@gmail.com\\nPhone: +94 71 172 2653\\nLinkedIn: ashanwithana\\nRelationship: Professional Reference')]\n",
      "\n",
      "----------------------------------------------------------------------\n",
      "\n",
      "[Document(metadata={'producer': 'pdfTeX-1.40.27', 'creator': 'LaTeX with hyperref', 'creationdate': '2025-09-24T13:24:37+00:00', 'author': '', 'keywords': '', 'moddate': '2025-09-24T13:24:37+00:00', 'ptex.fullbanner': 'This is pdfTeX, Version 3.141592653-2.6-1.40.27 (TeX Live 2025) kpathsea version 6.4.1', 'subject': '', 'title': '', 'trapped': 'False', 'total_pages': 2, 'source': 'Mehara_Rothila_AI__ML_Engineer.pdf'}, page_content='MEHARA ROTHILA RANAWAKA\\n\\nAI/ML Engineer\\n\\n+94 78 710 2992 | rothilamehara22@gmail.com | mehara.io\\n(cid:239) ramr-ranawaka | § mehara-rothila\\n\\nColombo, Western Province, Sri Lanka\\n\\nOBJECTIVE\\n\\nB.Sc.(Hons.) IT & Management student at University of Moratuwa. Experienced in machine learning, fraud detection,\\nand data analytics with DAX and KQL. Microsoft Certified Fabric Analytics Engineer with a focus on explainable AI\\nand interpretable solutions. Founded and led Team \"Xforce\" - a competitive programming and development team\\nachieving consistent success across multiple inter-university competitions.\\n\\nEXPERIENCE\\n\\n• ExcellyGen\\n\\nSoftware Engineering Trainee\\n◦ Learning industry best practices for software development lifecycle and project management\\n\\nOct 2024 - Sep 2025\\nColombo, Sri Lanka\\n\\nEDUCATION\\n\\n• University of Moratuwa - Faculty of Information Technology\\n\\nB.Sc.(Hons.) in Information Technology and Management\\n\\nJul 2023 - Jul 2027\\nMoratuwa, Sri Lanka\\n\\nPROJECTS'), Document(metadata={'producer': 'pdfTeX-1.40.27', 'creator': 'LaTeX with hyperref', 'creationdate': '2025-09-24T13:24:37+00:00', 'author': '', 'keywords': '', 'moddate': '2025-09-24T13:24:37+00:00', 'ptex.fullbanner': 'This is pdfTeX, Version 3.141592653-2.6-1.40.27 (TeX Live 2025) kpathsea version 6.4.1', 'subject': '', 'title': '', 'trapped': 'False', 'total_pages': 2, 'source': 'Mehara_Rothila_AI__ML_Engineer.pdf'}, page_content='2025\\n• 1st Place - SpiritX 2025 Inter-University Development Competition | Team Leader | MoraSpirit\\n2025\\n• Web App Excellence Award - Best Web App | Idealize 2025 | Team Leader | AIESEC UOM\\n2024\\n• 2nd Place - FIT CodeRush 2024 Intra-Faculty Hackathon | INTECS, University of Moratuwa\\n2025\\n• 2nd Place - Idealize 2025 Datathon (Lung Cancer Survival Prediction) | Team Leader | AIESEC UOM\\n2025\\n• 2nd Place - Idealize 2025 Web App Competition | Team Leader | AIESEC UOM\\n2025\\n• 3rd Place - Devthon 2.0 Web Development | Team Leader | Rotaract Club UOM\\n2025\\n• 3rd Place - AWS Cloud Ideathon | Team Leader | IEEE CS Chapter USJ\\n2025\\n• 4th Place CodeX Track (Algorithms) - CodeJam 2025 | Team Leader | CSE Dept. UOM\\n2025\\n• Top 8 Finalist Data Crunch (Data Science) - CodeJam 2025 | Team Leader | CSE Dept. UOM\\n• Top 10 Finalist - Data Storm 6.0 National Data Science Competition | Team Leader | Rotaract UOM & UOC 2025\\n2025')]\n",
      "\n",
      "----------------------------------------------------------------------\n",
      "\n",
      "[Document(metadata={'producer': 'pdfTeX-1.40.27', 'creator': 'LaTeX with hyperref', 'creationdate': '2025-09-24T13:24:37+00:00', 'author': '', 'keywords': '', 'moddate': '2025-09-24T13:24:37+00:00', 'ptex.fullbanner': 'This is pdfTeX, Version 3.141592653-2.6-1.40.27 (TeX Live 2025) kpathsea version 6.4.1', 'subject': '', 'title': '', 'trapped': 'False', 'total_pages': 2, 'source': 'Mehara_Rothila_AI__ML_Engineer.pdf'}, page_content='MEHARA ROTHILA RANAWAKA\\n\\nAI/ML Engineer\\n\\n+94 78 710 2992 | rothilamehara22@gmail.com | mehara.io\\n(cid:239) ramr-ranawaka | § mehara-rothila\\n\\nColombo, Western Province, Sri Lanka\\n\\nOBJECTIVE\\n\\nB.Sc.(Hons.) IT & Management student at University of Moratuwa. Experienced in machine learning, fraud detection,\\nand data analytics with DAX and KQL. Microsoft Certified Fabric Analytics Engineer with a focus on explainable AI\\nand interpretable solutions. Founded and led Team \"Xforce\" - a competitive programming and development team\\nachieving consistent success across multiple inter-university competitions.\\n\\nEXPERIENCE\\n\\n• ExcellyGen\\n\\nSoftware Engineering Trainee\\n◦ Learning industry best practices for software development lifecycle and project management\\n\\nOct 2024 - Sep 2025\\nColombo, Sri Lanka\\n\\nEDUCATION\\n\\n• University of Moratuwa - Faculty of Information Technology\\n\\nB.Sc.(Hons.) in Information Technology and Management\\n\\nJul 2023 - Jul 2027\\nMoratuwa, Sri Lanka\\n\\nPROJECTS'), Document(metadata={'producer': 'pdfTeX-1.40.27', 'creator': 'LaTeX with hyperref', 'creationdate': '2025-09-24T13:24:37+00:00', 'author': '', 'keywords': '', 'moddate': '2025-09-24T13:24:37+00:00', 'ptex.fullbanner': 'This is pdfTeX, Version 3.141592653-2.6-1.40.27 (TeX Live 2025) kpathsea version 6.4.1', 'subject': '', 'title': '', 'trapped': 'False', 'total_pages': 2, 'source': 'Mehara_Rothila_AI__ML_Engineer.pdf'}, page_content='LEADERSHIP EXPERIENCE\\n\\n• Founder & Team Leader - Team \"Xforce\"\\nCompetitive Programming and Development Team\\n◦ Founded and led competitive programming team with multiple top-3 finishes across 15+ national competitions\\n\\n2024 - Present\\n\\nCERTIFICATIONS\\n\\n• Microsoft Certified: Fabric Analytics Engineer Associate\\n• SLIIT: AI/ML Engineer - Stage 2\\n\\nOct 2024\\nOct 2024\\n\\nREFERENCES\\n\\nMrs. M. B. Mufitha\\nSenior Lecturer / Student Counselor\\nHead of the Department\\nDepartment of Interdisciplinary Studies\\nFaculty of Information Technology\\nUniversity of Moratuwa\\nEmail: mufithab@uom.lk\\nPhone: +94 76 545 7738\\nRelationship: Academic Supervisor\\n\\nMr. Ashan Withana\\nSoftware Engineer\\nSaberion\\nColombo, Western Province\\nEmail: ashanwithana4@gmail.com\\nPhone: +94 71 172 2653\\nLinkedIn: ashanwithana\\nRelationship: Professional Reference')]\n",
      "\n",
      "----------------------------------------------------------------------\n",
      "\n"
     ]
    }
   ],
   "source": [
    "# Advanced: Working with PDF documents and LangChain Vector Store\n",
    "from langchain_community.vectorstores import DocArrayInMemorySearch  \n",
    "from langchain_community.document_loaders import PDFMinerLoader, PyPDFLoader\n",
    "from langchain.text_splitter import RecursiveCharacterTextSplitter\n",
    "import os\n",
    "\n",
    "# Define PDF file to process\n",
    "pdf_file = 'Mehara_Rothila_AI__ML_Engineer.pdf'\n",
    "file_path = os.path.join('Learning', pdf_file) if os.path.exists(os.path.join('Learning', pdf_file)) else pdf_file\n",
    "\n",
    "\n",
    "if os.path.exists(file_path):\n",
    "    \n",
    "    # Try PDFMinerLoader first (better for complex PDFs)\n",
    "    loader = PDFMinerLoader(file_path=file_path)\n",
    "    documents = loader.load()\n",
    "        \n",
    "    \n",
    "    if documents:\n",
    "        text_splitter = RecursiveCharacterTextSplitter(\n",
    "            chunk_size=1000,\n",
    "            chunk_overlap=200,\n",
    "            separators=[\"\\n\\n\", \"\\n\", \" \", \"\"]\n",
    "        )\n",
    "        \n",
    "        split_docs = text_splitter.split_documents(documents)\n",
    "        \n",
    "        try:\n",
    "            db = DocArrayInMemorySearch.from_documents(split_docs, embeddings)\n",
    "            \n",
    "            def search_pdf_content(query, k=3):\n",
    "                results = db.similarity_search(query, k=k)\n",
    "        \n",
    "                return results\n",
    "            \n",
    "            # Example searches relevant to an AI/ML engineer resume\n",
    "            test_searches = [\n",
    "                \"machine learning experience\",\n",
    "                \"Python programming skills\", \n",
    "                \"AI projects worked on\",\n",
    "                \"technical skills and expertise\"\n",
    "            ]\n",
    "            \n",
    "            for search_query in test_searches:\n",
    "                search_pdf_content(search_query, k=2)\n",
    "                print(\"\\n\" + \"-\"*70 + \"\\n\")\n",
    "        \n",
    "            \n",
    "        except Exception as e:\n",
    "            print(f\"Failed to create vector store: {e}\")\n",
    "            \n",
    "else:\n",
    "    print(f\"Error: PDF\")"
   ]
  },
  {
   "cell_type": "code",
   "execution_count": null,
   "id": "19c18e5c",
   "metadata": {},
   "outputs": [],
   "source": []
  }
 ],
 "metadata": {
  "kernelspec": {
   "display_name": "venv (3.9.6)",
   "language": "python",
   "name": "python3"
  },
  "language_info": {
   "codemirror_mode": {
    "name": "ipython",
    "version": 3
   },
   "file_extension": ".py",
   "mimetype": "text/x-python",
   "name": "python",
   "nbconvert_exporter": "python",
   "pygments_lexer": "ipython3",
   "version": "3.9.6"
  }
 },
 "nbformat": 4,
 "nbformat_minor": 5
}
